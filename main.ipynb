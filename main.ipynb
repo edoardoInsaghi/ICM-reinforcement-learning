{
 "cells": [
  {
   "cell_type": "code",
   "execution_count": 13,
   "metadata": {},
   "outputs": [],
   "source": [
    "import gym\n",
    "import gym_super_mario_bros\n",
    "from gym.wrappers import GrayScaleObservation, FrameStack\n",
    "from gym_super_mario_bros.actions import SIMPLE_MOVEMENT\n",
    "import numpy as np\n",
    "import matplotlib.pyplot as plt"
   ]
  },
  {
   "cell_type": "code",
   "execution_count": 30,
   "metadata": {},
   "outputs": [
    {
     "name": "stdout",
     "output_type": "stream",
     "text": [
      "Box(0, 255, (4, 128, 128), uint8)\n",
      "Discrete(256)\n",
      "(<gym.wrappers.frame_stack.LazyFrames object at 0x1618a1990>, 0.0, False, False, {'coins': 0, 'flag_get': False, 'life': 2, 'score': 0, 'stage': 1, 'status': 'small', 'time': 400, 'world': 1, 'x_pos': 40, 'y_pos': 79})\n",
      "Unexpected exception formatting exception. Falling back to standard exception\n"
     ]
    },
    {
     "name": "stderr",
     "output_type": "stream",
     "text": [
      "/Users/home/miniconda3/lib/python3.10/site-packages/gym/utils/passive_env_checker.py:272: UserWarning: \u001b[33mWARN: No render modes was declared in the environment (env.metadata['render_modes'] is None or not defined), you may have trouble when calling `.render()`.\u001b[0m\n",
      "Traceback (most recent call last):\n",
      "  File \"/Users/home/miniconda3/lib/python3.10/site-packages/IPython/core/interactiveshell.py\", line 3508, in run_code\n",
      "    exec(code_obj, self.user_global_ns, self.user_ns)\n",
      "  File \"/var/folders/sh/w29_tq253450_4hl9hfr18bh0000gn/T/ipykernel_15495/1638987815.py\", line 24, in <module>\n",
      "    env.render()\n",
      "  File \"/Users/home/miniconda3/lib/python3.10/site-packages/gym/core.py\", line 329, in render\n",
      "  File \"/Users/home/miniconda3/lib/python3.10/site-packages/gym/core.py\", line 329, in render\n",
      "  File \"/Users/home/miniconda3/lib/python3.10/site-packages/gym/core.py\", line 329, in render\n",
      "  [Previous line repeated 1 more time]\n",
      "  File \"/Users/home/miniconda3/lib/python3.10/site-packages/gym/wrappers/order_enforcing.py\", line 51, in render\n",
      "  File \"/Users/home/miniconda3/lib/python3.10/site-packages/gym/wrappers/env_checker.py\", line 53, in render\n",
      "  File \"/Users/home/miniconda3/lib/python3.10/site-packages/gym/utils/passive_env_checker.py\", line 316, in env_render_passive_checker\n",
      "  File \"/Users/home/miniconda3/lib/python3.10/site-packages/gym/wrappers/compatibility.py\", line 118, in render\n",
      "  File \"/Users/home/miniconda3/lib/python3.10/site-packages/nes_py/nes_env.py\", line 393, in render\n",
      "    raise NotImplementedError(msg)\n",
      "NotImplementedError: valid render modes are: 'rgb_array', 'human'\n",
      "\n",
      "During handling of the above exception, another exception occurred:\n",
      "\n",
      "Traceback (most recent call last):\n",
      "  File \"/Users/home/miniconda3/lib/python3.10/site-packages/IPython/core/interactiveshell.py\", line 2105, in showtraceback\n",
      "    stb = self.InteractiveTB.structured_traceback(\n",
      "  File \"/Users/home/miniconda3/lib/python3.10/site-packages/IPython/core/ultratb.py\", line 1428, in structured_traceback\n",
      "    return FormattedTB.structured_traceback(\n",
      "  File \"/Users/home/miniconda3/lib/python3.10/site-packages/IPython/core/ultratb.py\", line 1319, in structured_traceback\n",
      "    return VerboseTB.structured_traceback(\n",
      "  File \"/Users/home/miniconda3/lib/python3.10/site-packages/IPython/core/ultratb.py\", line 1172, in structured_traceback\n",
      "    formatted_exception = self.format_exception_as_a_whole(etype, evalue, etb, number_of_lines_of_context,\n",
      "  File \"/Users/home/miniconda3/lib/python3.10/site-packages/IPython/core/ultratb.py\", line 1087, in format_exception_as_a_whole\n",
      "    frames.append(self.format_record(record))\n",
      "  File \"/Users/home/miniconda3/lib/python3.10/site-packages/IPython/core/ultratb.py\", line 969, in format_record\n",
      "    frame_info.lines, Colors, self.has_colors, lvals\n",
      "  File \"/Users/home/miniconda3/lib/python3.10/site-packages/IPython/core/ultratb.py\", line 792, in lines\n",
      "    return self._sd.lines\n",
      "  File \"/Users/home/miniconda3/lib/python3.10/site-packages/stack_data/utils.py\", line 144, in cached_property_wrapper\n",
      "    value = obj.__dict__[self.func.__name__] = self.func(obj)\n",
      "  File \"/Users/home/miniconda3/lib/python3.10/site-packages/stack_data/core.py\", line 734, in lines\n",
      "    pieces = self.included_pieces\n",
      "  File \"/Users/home/miniconda3/lib/python3.10/site-packages/stack_data/utils.py\", line 144, in cached_property_wrapper\n",
      "    value = obj.__dict__[self.func.__name__] = self.func(obj)\n",
      "  File \"/Users/home/miniconda3/lib/python3.10/site-packages/stack_data/core.py\", line 681, in included_pieces\n",
      "    pos = scope_pieces.index(self.executing_piece)\n",
      "  File \"/Users/home/miniconda3/lib/python3.10/site-packages/stack_data/utils.py\", line 144, in cached_property_wrapper\n",
      "    value = obj.__dict__[self.func.__name__] = self.func(obj)\n",
      "  File \"/Users/home/miniconda3/lib/python3.10/site-packages/stack_data/core.py\", line 660, in executing_piece\n",
      "    return only(\n",
      "  File \"/Users/home/miniconda3/lib/python3.10/site-packages/executing/executing.py\", line 190, in only\n",
      "    raise NotOneValueFound('Expected one value, found 0')\n",
      "executing.executing.NotOneValueFound: Expected one value, found 0\n"
     ]
    },
    {
     "data": {
      "image/png": "[encoded data removed]",
      "text/plain": [
       "<Figure size 1200x400 with 4 Axes>"
      ]
     },
     "metadata": {},
     "output_type": "display_data"
    }
   ],
   "source": [
    "env = gym_super_mario_bros.make('SuperMarioBros-v3', apply_api_compatibility=True)\n",
    "env = gym.wrappers.ResizeObservation(env, (128, 128)) \n",
    "env = GrayScaleObservation(env, keep_dim=False)     \n",
    "env = FrameStack(env, 4) \n",
    "\n",
    "print(env.observation_space)\n",
    "print(env.action_space)\n",
    "\n",
    "observation = env.reset(seed=42)\n",
    "ob = observation[0]\n",
    "\n",
    "fig, axes = plt.subplots(1, 4, figsize=(12, 4))\n",
    "\n",
    "for i in range(4):\n",
    "    axes[i].imshow(ob[i], cmap='gray')\n",
    "    axes[i].set_title(f'Frame {i + 1}')\n",
    "    axes[i].axis('off')\n",
    "\n",
    "# Example interaction\n",
    "for _ in range(1000):\n",
    "    action = env.action_space.sample() \n",
    "    game = env.step(action)\n",
    "    print(game)\n",
    "    env.render()\n",
    "    if done:\n",
    "        state = env.reset()\n",
    "\n",
    "env.close()"
   ]
  }
 ],
 "metadata": {
  "kernelspec": {
   "display_name": "base",
   "language": "python",
   "name": "base"
  },
  "language_info": {
   "codemirror_mode": {
    "name": "ipython",
    "version": 3
   },
   "file_extension": ".py",
   "mimetype": "text/x-python",
   "name": "python",
   "nbconvert_exporter": "python",
   "pygments_lexer": "ipython3",
   "version": "3.10.9"
  }
 },
 "nbformat": 4,
 "nbformat_minor": 2
}
